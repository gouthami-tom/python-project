{
  "nbformat": 4,
  "nbformat_minor": 0,
  "metadata": {
    "colab": {
      "name": "Scraping-github-topics-repositories.ipynb",
      "provenance": [],
      "authorship_tag": "ABX9TyMVMv6rkvt1p+2IjsOOkzaF",
      "include_colab_link": true
    },
    "kernelspec": {
      "name": "python3",
      "display_name": "Python 3"
    },
    "language_info": {
      "name": "python"
    }
  },
  "cells": [
    {
      "cell_type": "markdown",
      "metadata": {
        "id": "view-in-github",
        "colab_type": "text"
      },
      "source": [
        "<a href=\"https://colab.research.google.com/github/gouthami-tom/python-project/blob/main/Scraping_github_topics_repositories.ipynb\" target=\"_parent\"><img src=\"https://colab.research.google.com/assets/colab-badge.svg\" alt=\"Open In Colab\"/></a>"
      ]
    },
    {
      "cell_type": "markdown",
      "source": [
        "## Pickup a website and describe your objective.\n",
        "\n",
        "1.   Browse through different webistes and pick to scrape. \n",
        "2.   Identify the information you would like to scrape.Decide the output of the file.\n",
        "\n",
        "\n",
        "\n",
        "\n"
      ],
      "metadata": {
        "id": "AmmwHvaVvNBp"
      }
    },
    {
      "cell_type": "markdown",
      "source": [
        "Outline:\n",
        "\n",
        "- We are going to scrape https://github.com/topics\n",
        "- We will get a list of topics and for each topic we will get the topic title, page url, description, lets get the top 25 repositories.\n",
        "- For each repository we get the repo name, usernam, stars, and repo URL.\n",
        "- One csv file for each topic\n",
        "- Fomrat:\n",
        " ''' \n",
        " Repo Name, Username, Repo URL, Stars.\n",
        " '''\n",
        "\n",
        " Scraping has two steps, you get the webpage and then parse it.Remeber to have the https part in the url."
      ],
      "metadata": {
        "id": "vg7nSEmEzW38"
      }
    },
    {
      "cell_type": "markdown",
      "source": [
        "### Use the requests library to download the web pages"
      ],
      "metadata": {
        "id": "3IAArRxx0HNa"
      }
    },
    {
      "cell_type": "code",
      "execution_count": 1,
      "metadata": {
        "id": "JsZT87WQu4U0"
      },
      "outputs": [],
      "source": [
        "! pip install requests --quiet"
      ]
    },
    {
      "cell_type": "code",
      "source": [
        "import requests"
      ],
      "metadata": {
        "id": "SCYNDTks1W59"
      },
      "execution_count": 2,
      "outputs": []
    },
    {
      "cell_type": "code",
      "source": [
        "topics_url = \"https://github.com/topics\""
      ],
      "metadata": {
        "id": "dSQ3imiD1Yqo"
      },
      "execution_count": 3,
      "outputs": []
    },
    {
      "cell_type": "code",
      "source": [
        "response = requests.get(topics_url)"
      ],
      "metadata": {
        "id": "zu6W1kS21gqF"
      },
      "execution_count": 4,
      "outputs": []
    },
    {
      "cell_type": "code",
      "source": [
        "response.status_code # The status codes are "
      ],
      "metadata": {
        "colab": {
          "base_uri": "https://localhost:8080/"
        },
        "id": "u-jczC5J1wcX",
        "outputId": "500a969d-e5cb-48d1-c9da-f11772c7a33e"
      },
      "execution_count": 5,
      "outputs": [
        {
          "output_type": "execute_result",
          "data": {
            "text/plain": [
              "200"
            ]
          },
          "metadata": {},
          "execution_count": 5
        }
      ]
    },
    {
      "cell_type": "code",
      "source": [
        "page_contents = response.text\n",
        "page_contents[:1000]"
      ],
      "metadata": {
        "colab": {
          "base_uri": "https://localhost:8080/",
          "height": 165
        },
        "id": "5ZM_Z4cW1z-S",
        "outputId": "9d33fd3e-333f-4be2-c74f-56f0075853d6"
      },
      "execution_count": 6,
      "outputs": [
        {
          "output_type": "execute_result",
          "data": {
            "text/plain": [
              "'\\n\\n<!DOCTYPE html>\\n<html lang=\"en\" data-color-mode=\"auto\" data-light-theme=\"light\" data-dark-theme=\"dark\" data-a11y-animated-images=\"system\">\\n  <head>\\n    <meta charset=\"utf-8\">\\n  <link rel=\"dns-prefetch\" href=\"https://github.githubassets.com\">\\n  <link rel=\"dns-prefetch\" href=\"https://avatars.githubusercontent.com\">\\n  <link rel=\"dns-prefetch\" href=\"https://github-cloud.s3.amazonaws.com\">\\n  <link rel=\"dns-prefetch\" href=\"https://user-images.githubusercontent.com/\">\\n  <link rel=\"preconnect\" href=\"https://github.githubassets.com\" crossorigin>\\n  <link rel=\"preconnect\" href=\"https://avatars.githubusercontent.com\">\\n\\n\\n\\n  <link crossorigin=\"anonymous\" media=\"all\" rel=\"stylesheet\" href=\"https://github.githubassets.com/assets/light-5178aee0ee76.css\" /><link crossorigin=\"anonymous\" media=\"all\" rel=\"stylesheet\" href=\"https://github.githubassets.com/assets/dark-217d4f9c8e70.css\" /><link data-color-theme=\"dark_dimmed\" crossorigin=\"anonymous\" media=\"all\" rel=\"stylesheet\" data-href=\"https://github.gith'"
            ],
            "application/vnd.google.colaboratory.intrinsic+json": {
              "type": "string"
            }
          },
          "metadata": {},
          "execution_count": 6
        }
      ]
    },
    {
      "cell_type": "code",
      "source": [
        "with open ('webpage.html', 'w') as f:\n",
        "    f.write(page_contents)"
      ],
      "metadata": {
        "id": "D_JvMKG_BXLM"
      },
      "execution_count": 7,
      "outputs": []
    },
    {
      "cell_type": "markdown",
      "source": [
        "## Using Beautiful Soup to parse and extract information"
      ],
      "metadata": {
        "id": "stENQHi5Fwbn"
      }
    },
    {
      "cell_type": "code",
      "source": [
        "! pip install beautifulsoup4 --quiet"
      ],
      "metadata": {
        "id": "5sMV1yUWF9rJ"
      },
      "execution_count": 8,
      "outputs": []
    },
    {
      "cell_type": "code",
      "source": [
        "from bs4 import BeautifulSoup\n",
        "doc = BeautifulSoup(page_contents, 'html.parser')\n",
        "type(doc)"
      ],
      "metadata": {
        "colab": {
          "base_uri": "https://localhost:8080/"
        },
        "id": "pG1lGxdJGRVd",
        "outputId": "4f45dda1-78ac-4ca8-8c80-796c1f0e8859"
      },
      "execution_count": 9,
      "outputs": [
        {
          "output_type": "execute_result",
          "data": {
            "text/plain": [
              "bs4.BeautifulSoup"
            ]
          },
          "metadata": {},
          "execution_count": 9
        }
      ]
    },
    {
      "cell_type": "code",
      "source": [
        "selection_class = \"f3 lh-condensed mb-0 mt-1 Link--primary\"\n",
        "topic_title_tags = doc.find_all('p', { 'class': selection_class })\n",
        "len(topic_title_tags)"
      ],
      "metadata": {
        "colab": {
          "base_uri": "https://localhost:8080/"
        },
        "id": "Izt0mIsEIe9k",
        "outputId": "45f0a1f3-9961-413c-a47f-704d08f5f35e"
      },
      "execution_count": 10,
      "outputs": [
        {
          "output_type": "execute_result",
          "data": {
            "text/plain": [
              "30"
            ]
          },
          "metadata": {},
          "execution_count": 10
        }
      ]
    },
    {
      "cell_type": "code",
      "source": [
        "topic_title_tags[:5]"
      ],
      "metadata": {
        "colab": {
          "base_uri": "https://localhost:8080/"
        },
        "id": "cgapXCrTIqc2",
        "outputId": "dcffc6cd-d38f-420e-f661-cc98370c4e10"
      },
      "execution_count": 11,
      "outputs": [
        {
          "output_type": "execute_result",
          "data": {
            "text/plain": [
              "[<p class=\"f3 lh-condensed mb-0 mt-1 Link--primary\">3D</p>,\n",
              " <p class=\"f3 lh-condensed mb-0 mt-1 Link--primary\">Ajax</p>,\n",
              " <p class=\"f3 lh-condensed mb-0 mt-1 Link--primary\">Algorithm</p>,\n",
              " <p class=\"f3 lh-condensed mb-0 mt-1 Link--primary\">Amp</p>,\n",
              " <p class=\"f3 lh-condensed mb-0 mt-1 Link--primary\">Android</p>]"
            ]
          },
          "metadata": {},
          "execution_count": 11
        }
      ]
    },
    {
      "cell_type": "code",
      "source": [
        "description_class = \"f5 color-fg-muted mb-0 mt-1\"\n",
        "topic_description_tags = doc.find_all('p', {'class': description_class})\n",
        "len(topic_description_tags)"
      ],
      "metadata": {
        "colab": {
          "base_uri": "https://localhost:8080/"
        },
        "id": "acyPwWZ4WJSA",
        "outputId": "d8c87d4a-0ded-43e4-e7e5-4be187d1182a"
      },
      "execution_count": 12,
      "outputs": [
        {
          "output_type": "execute_result",
          "data": {
            "text/plain": [
              "30"
            ]
          },
          "metadata": {},
          "execution_count": 12
        }
      ]
    },
    {
      "cell_type": "code",
      "source": [
        "topic_description_tags[:5]"
      ],
      "metadata": {
        "colab": {
          "base_uri": "https://localhost:8080/"
        },
        "id": "CCzxe6_3Wam-",
        "outputId": "15e03df8-2da9-41b7-f641-62f275293b15"
      },
      "execution_count": 13,
      "outputs": [
        {
          "output_type": "execute_result",
          "data": {
            "text/plain": [
              "[<p class=\"f5 color-fg-muted mb-0 mt-1\">\n",
              "           3D modeling is the process of virtually developing the surface and structure of a 3D object.\n",
              "         </p>, <p class=\"f5 color-fg-muted mb-0 mt-1\">\n",
              "           Ajax is a technique for creating interactive web applications.\n",
              "         </p>, <p class=\"f5 color-fg-muted mb-0 mt-1\">\n",
              "           Algorithms are self-contained sequences that carry out a variety of tasks.\n",
              "         </p>, <p class=\"f5 color-fg-muted mb-0 mt-1\">\n",
              "           Amp is a non-blocking concurrency library for PHP.\n",
              "         </p>, <p class=\"f5 color-fg-muted mb-0 mt-1\">\n",
              "           Android is an operating system built by Google designed for mobile devices.\n",
              "         </p>]"
            ]
          },
          "metadata": {},
          "execution_count": 13
        }
      ]
    },
    {
      "cell_type": "code",
      "source": [
        "link_class = \"no-underline flex-grow-0\"\n",
        "topic_link_tags = doc.find_all('a',{'class' : link_class})\n",
        "len(topic_link_tags)"
      ],
      "metadata": {
        "colab": {
          "base_uri": "https://localhost:8080/"
        },
        "id": "Oi0on1_XXzNG",
        "outputId": "8bb73a92-4ac8-445a-8a66-c4f2490093c4"
      },
      "execution_count": 14,
      "outputs": [
        {
          "output_type": "execute_result",
          "data": {
            "text/plain": [
              "30"
            ]
          },
          "metadata": {},
          "execution_count": 14
        }
      ]
    },
    {
      "cell_type": "code",
      "source": [
        "topic_link0 = 'https://github.com' + topic_link_tags[0]['href']\n",
        "topic_link0"
      ],
      "metadata": {
        "colab": {
          "base_uri": "https://localhost:8080/",
          "height": 36
        },
        "id": "7_KwgBXPawgN",
        "outputId": "994d98e8-3110-464a-913a-96a98a242c8a"
      },
      "execution_count": 15,
      "outputs": [
        {
          "output_type": "execute_result",
          "data": {
            "text/plain": [
              "'https://github.com/topics/3d'"
            ],
            "application/vnd.google.colaboratory.intrinsic+json": {
              "type": "string"
            }
          },
          "metadata": {},
          "execution_count": 15
        }
      ]
    },
    {
      "cell_type": "code",
      "source": [
        "topic_titles = []\n",
        "\n",
        "for tag in topic_title_tags:\n",
        "    topic_titles.append(tag.text)\n",
        "\n",
        "topic_titles"
      ],
      "metadata": {
        "colab": {
          "base_uri": "https://localhost:8080/"
        },
        "id": "o7OYRIXQcv8y",
        "outputId": "41c6a0ed-7793-44c9-f9d7-9d8a64053ff7"
      },
      "execution_count": 16,
      "outputs": [
        {
          "output_type": "execute_result",
          "data": {
            "text/plain": [
              "['3D',\n",
              " 'Ajax',\n",
              " 'Algorithm',\n",
              " 'Amp',\n",
              " 'Android',\n",
              " 'Angular',\n",
              " 'Ansible',\n",
              " 'API',\n",
              " 'Arduino',\n",
              " 'ASP.NET',\n",
              " 'Atom',\n",
              " 'Awesome Lists',\n",
              " 'Amazon Web Services',\n",
              " 'Azure',\n",
              " 'Babel',\n",
              " 'Bash',\n",
              " 'Bitcoin',\n",
              " 'Bootstrap',\n",
              " 'Bot',\n",
              " 'C',\n",
              " 'Chrome',\n",
              " 'Chrome extension',\n",
              " 'Command line interface',\n",
              " 'Clojure',\n",
              " 'Code quality',\n",
              " 'Code review',\n",
              " 'Compiler',\n",
              " 'Continuous integration',\n",
              " 'COVID-19',\n",
              " 'C++']"
            ]
          },
          "metadata": {},
          "execution_count": 16
        }
      ]
    },
    {
      "cell_type": "code",
      "source": [
        "topic_descs = []\n",
        "for desc in topic_description_tags:\n",
        "    topic_descs.append(desc.text.strip())\n",
        "topic_descs"
      ],
      "metadata": {
        "colab": {
          "base_uri": "https://localhost:8080/"
        },
        "id": "avgfHO5ri_4g",
        "outputId": "a8a7f689-e927-4f26-81ba-447d1f3ed90e"
      },
      "execution_count": 17,
      "outputs": [
        {
          "output_type": "execute_result",
          "data": {
            "text/plain": [
              "['3D modeling is the process of virtually developing the surface and structure of a 3D object.',\n",
              " 'Ajax is a technique for creating interactive web applications.',\n",
              " 'Algorithms are self-contained sequences that carry out a variety of tasks.',\n",
              " 'Amp is a non-blocking concurrency library for PHP.',\n",
              " 'Android is an operating system built by Google designed for mobile devices.',\n",
              " 'Angular is an open source web application platform.',\n",
              " 'Ansible is a simple and powerful automation engine.',\n",
              " 'An API (Application Programming Interface) is a collection of protocols and subroutines for building software.',\n",
              " 'Arduino is an open source hardware and software company and maker community.',\n",
              " 'ASP.NET is a web framework for building modern web apps and services.',\n",
              " 'Atom is a open source text editor built with web technologies.',\n",
              " 'An awesome list is a list of awesome things curated by the community.',\n",
              " 'Amazon Web Services provides on-demand cloud computing platforms on a subscription basis.',\n",
              " 'Azure is a cloud computing service created by Microsoft.',\n",
              " 'Babel is a compiler for writing next generation JavaScript, today.',\n",
              " 'Bash is a shell and command language interpreter for the GNU operating system.',\n",
              " 'Bitcoin is a cryptocurrency developed by Satoshi Nakamoto.',\n",
              " 'Bootstrap is an HTML, CSS, and JavaScript framework.',\n",
              " 'A bot is an application that runs automated tasks over the Internet.',\n",
              " 'C is a general purpose programming language that first appeared in 1972.',\n",
              " 'Chrome is a web browser from the tech company Google.',\n",
              " 'Chrome extensions enable users to customize the Chrome browsing experience.',\n",
              " 'A CLI, or command-line interface, is a console that helps users issue commands to a program.',\n",
              " 'Clojure is a dynamic, general-purpose programming language.',\n",
              " 'Automate your code review with style, quality, security, and test‑coverage checks when you need them.',\n",
              " 'Ensure your code meets quality standards and ship with confidence.',\n",
              " 'Compilers are software that translate higher-level programming languages to lower-level languages (e.g. machine code).',\n",
              " 'Automatically build and test your code as you push it upstream, preventing bugs from being deployed to production.',\n",
              " 'The coronavirus disease 2019 (COVID-19) is an infectious disease caused by SARS-CoV-2.',\n",
              " 'C++ is a general purpose and object-oriented programming language.']"
            ]
          },
          "metadata": {},
          "execution_count": 17
        }
      ]
    },
    {
      "cell_type": "code",
      "source": [
        "topic_links = []\n",
        "base_link = \"https://github.com\"\n",
        "for link in topic_link_tags:\n",
        "    topic_links.append(base_link + link['href'])\n",
        "\n",
        "topic_links"
      ],
      "metadata": {
        "colab": {
          "base_uri": "https://localhost:8080/"
        },
        "id": "LI0at1BdjZC5",
        "outputId": "3d266261-eeec-40bc-c52d-d15d6cd99032"
      },
      "execution_count": 18,
      "outputs": [
        {
          "output_type": "execute_result",
          "data": {
            "text/plain": [
              "['https://github.com/topics/3d',\n",
              " 'https://github.com/topics/ajax',\n",
              " 'https://github.com/topics/algorithm',\n",
              " 'https://github.com/topics/amphp',\n",
              " 'https://github.com/topics/android',\n",
              " 'https://github.com/topics/angular',\n",
              " 'https://github.com/topics/ansible',\n",
              " 'https://github.com/topics/api',\n",
              " 'https://github.com/topics/arduino',\n",
              " 'https://github.com/topics/aspnet',\n",
              " 'https://github.com/topics/atom',\n",
              " 'https://github.com/topics/awesome',\n",
              " 'https://github.com/topics/aws',\n",
              " 'https://github.com/topics/azure',\n",
              " 'https://github.com/topics/babel',\n",
              " 'https://github.com/topics/bash',\n",
              " 'https://github.com/topics/bitcoin',\n",
              " 'https://github.com/topics/bootstrap',\n",
              " 'https://github.com/topics/bot',\n",
              " 'https://github.com/topics/c',\n",
              " 'https://github.com/topics/chrome',\n",
              " 'https://github.com/topics/chrome-extension',\n",
              " 'https://github.com/topics/cli',\n",
              " 'https://github.com/topics/clojure',\n",
              " 'https://github.com/topics/code-quality',\n",
              " 'https://github.com/topics/code-review',\n",
              " 'https://github.com/topics/compiler',\n",
              " 'https://github.com/topics/continuous-integration',\n",
              " 'https://github.com/topics/covid-19',\n",
              " 'https://github.com/topics/cpp']"
            ]
          },
          "metadata": {},
          "execution_count": 18
        }
      ]
    },
    {
      "cell_type": "code",
      "source": [
        "import pandas as pd\n",
        "topics_dict = {\n",
        "    'title' : topic_titles,\n",
        "    'description' : topic_descs,\n",
        "    'url': topic_links\n",
        "}\n",
        "\n",
        "df = pd.DataFrame(topics_dict)"
      ],
      "metadata": {
        "id": "BN96cvXskT0u"
      },
      "execution_count": 19,
      "outputs": []
    },
    {
      "cell_type": "code",
      "source": [
        "filename = 'topic_details'\n",
        "topics_df = df.to_csv(filename, index = None)"
      ],
      "metadata": {
        "id": "q5ha0KoMlGPe"
      },
      "execution_count": 20,
      "outputs": []
    },
    {
      "cell_type": "markdown",
      "source": [
        "## Getting the information from topic page"
      ],
      "metadata": {
        "id": "tvBsPJPKmLPI"
      }
    },
    {
      "cell_type": "code",
      "source": [
        "topic_page_url = topic_links[0]\n",
        "topic_page_url"
      ],
      "metadata": {
        "colab": {
          "base_uri": "https://localhost:8080/",
          "height": 36
        },
        "id": "TNrHQoGrmOmJ",
        "outputId": "49f09106-e9bf-439c-a5b7-540504b1c9b4"
      },
      "execution_count": 21,
      "outputs": [
        {
          "output_type": "execute_result",
          "data": {
            "text/plain": [
              "'https://github.com/topics/3d'"
            ],
            "application/vnd.google.colaboratory.intrinsic+json": {
              "type": "string"
            }
          },
          "metadata": {},
          "execution_count": 21
        }
      ]
    },
    {
      "cell_type": "code",
      "source": [
        "response = requests.get(topic_page_url)\n",
        "response.status_code"
      ],
      "metadata": {
        "colab": {
          "base_uri": "https://localhost:8080/"
        },
        "id": "cRl6BIfrmbum",
        "outputId": "61a8ce98-a837-4162-d94b-4278218fa5f4"
      },
      "execution_count": 22,
      "outputs": [
        {
          "output_type": "execute_result",
          "data": {
            "text/plain": [
              "200"
            ]
          },
          "metadata": {},
          "execution_count": 22
        }
      ]
    },
    {
      "cell_type": "code",
      "source": [
        "len(response.text)"
      ],
      "metadata": {
        "colab": {
          "base_uri": "https://localhost:8080/"
        },
        "id": "iq25Duqkml9v",
        "outputId": "f5f5af02-874a-4f8c-ec39-5b63540326cb"
      },
      "execution_count": 23,
      "outputs": [
        {
          "output_type": "execute_result",
          "data": {
            "text/plain": [
              "431093"
            ]
          },
          "metadata": {},
          "execution_count": 23
        }
      ]
    },
    {
      "cell_type": "code",
      "source": [
        "topic_doc = BeautifulSoup(response.text, 'html.parser')"
      ],
      "metadata": {
        "id": "oKi6bektmq5Z"
      },
      "execution_count": 24,
      "outputs": []
    },
    {
      "cell_type": "code",
      "source": [
        "h3_sel_class = \"f3 color-fg-muted text-normal lh-condensed\"\n",
        "\n",
        "repo_tags = topic_doc.find_all('h3',{'class' : h3_sel_class})"
      ],
      "metadata": {
        "id": "8H4hUYUOvINw"
      },
      "execution_count": 25,
      "outputs": []
    },
    {
      "cell_type": "code",
      "source": [
        "len(repo_tags)"
      ],
      "metadata": {
        "colab": {
          "base_uri": "https://localhost:8080/"
        },
        "id": "QZYWnbvo0tkC",
        "outputId": "8089cc44-053f-41b8-c79c-123fe4386f85"
      },
      "execution_count": 26,
      "outputs": [
        {
          "output_type": "execute_result",
          "data": {
            "text/plain": [
              "20"
            ]
          },
          "metadata": {},
          "execution_count": 26
        }
      ]
    },
    {
      "cell_type": "code",
      "source": [
        "repo_tags[0]"
      ],
      "metadata": {
        "colab": {
          "base_uri": "https://localhost:8080/"
        },
        "id": "BkaqihBI0QOc",
        "outputId": "82b74e2e-4d50-4b49-e7a2-adf9eecadeb4"
      },
      "execution_count": 27,
      "outputs": [
        {
          "output_type": "execute_result",
          "data": {
            "text/plain": [
              "<h3 class=\"f3 color-fg-muted text-normal lh-condensed\">\n",
              "<a data-hydro-click='{\"event_type\":\"explore.click\",\"payload\":{\"click_context\":\"REPOSITORY_CARD\",\"click_target\":\"OWNER\",\"click_visual_representation\":\"REPOSITORY_OWNER_HEADING\",\"actor_id\":null,\"record_id\":97088,\"originating_url\":\"https://github.com/topics/3d\",\"user_id\":null}}' data-hydro-click-hmac=\"4bdbc49d3c05ae7f70b531fbce709a384200b0768554e0172950286a8db30940\" data-turbo=\"false\" data-view-component=\"true\" href=\"/mrdoob\">\n",
              "            mrdoob\n",
              "</a>          /\n",
              "          <a class=\"text-bold wb-break-word\" data-hydro-click='{\"event_type\":\"explore.click\",\"payload\":{\"click_context\":\"REPOSITORY_CARD\",\"click_target\":\"REPOSITORY\",\"click_visual_representation\":\"REPOSITORY_NAME_HEADING\",\"actor_id\":null,\"record_id\":576201,\"originating_url\":\"https://github.com/topics/3d\",\"user_id\":null}}' data-hydro-click-hmac=\"517d3d5cb9d89752156923904a4238816bc9b51ab7772f3e3644ce897d8dd4e5\" data-turbo=\"false\" data-view-component=\"true\" href=\"/mrdoob/three.js\">\n",
              "            three.js\n",
              "</a> </h3>"
            ]
          },
          "metadata": {},
          "execution_count": 27
        }
      ]
    },
    {
      "cell_type": "code",
      "source": [
        "a_tags = repo_tags[0].find_all('a')\n",
        "len(a_tags)"
      ],
      "metadata": {
        "id": "SZ2pM_J706qc",
        "colab": {
          "base_uri": "https://localhost:8080/"
        },
        "outputId": "b8f90fd8-8138-4d9f-f3aa-751f4509e2da"
      },
      "execution_count": 28,
      "outputs": [
        {
          "output_type": "execute_result",
          "data": {
            "text/plain": [
              "2"
            ]
          },
          "metadata": {},
          "execution_count": 28
        }
      ]
    },
    {
      "cell_type": "code",
      "source": [
        "a_tags[0].text.strip()"
      ],
      "metadata": {
        "colab": {
          "base_uri": "https://localhost:8080/",
          "height": 36
        },
        "id": "pnGDOBVD1vHo",
        "outputId": "d9db99e0-b773-4798-e077-002a0b807727"
      },
      "execution_count": 29,
      "outputs": [
        {
          "output_type": "execute_result",
          "data": {
            "text/plain": [
              "'mrdoob'"
            ],
            "application/vnd.google.colaboratory.intrinsic+json": {
              "type": "string"
            }
          },
          "metadata": {},
          "execution_count": 29
        }
      ]
    },
    {
      "cell_type": "code",
      "source": [
        "a_tags[1].text.strip()"
      ],
      "metadata": {
        "colab": {
          "base_uri": "https://localhost:8080/",
          "height": 36
        },
        "id": "eGgJnDNe36qM",
        "outputId": "58c3c09a-6159-458b-825e-7499e6dacda1"
      },
      "execution_count": 30,
      "outputs": [
        {
          "output_type": "execute_result",
          "data": {
            "text/plain": [
              "'three.js'"
            ],
            "application/vnd.google.colaboratory.intrinsic+json": {
              "type": "string"
            }
          },
          "metadata": {},
          "execution_count": 30
        }
      ]
    },
    {
      "cell_type": "code",
      "source": [
        "repo_url = base_link + a_tags[1]['href']"
      ],
      "metadata": {
        "id": "CV4tLQWx6Qjg"
      },
      "execution_count": 31,
      "outputs": []
    },
    {
      "cell_type": "code",
      "source": [
        "span_sel_class  = \"Counter js-social-count\"\n",
        "star_tags = topic_doc.find_all('span',{'class': span_sel_class})\n",
        "len(star_tags)"
      ],
      "metadata": {
        "colab": {
          "base_uri": "https://localhost:8080/"
        },
        "id": "C0PI-fuX3-zu",
        "outputId": "9a3f5cda-2016-405c-bfdc-bc8d6e7fac9a"
      },
      "execution_count": 32,
      "outputs": [
        {
          "output_type": "execute_result",
          "data": {
            "text/plain": [
              "20"
            ]
          },
          "metadata": {},
          "execution_count": 32
        }
      ]
    },
    {
      "cell_type": "code",
      "source": [
        "star_no = star_tags[0].text"
      ],
      "metadata": {
        "id": "kMOC5wu-4Cbm"
      },
      "execution_count": 33,
      "outputs": []
    },
    {
      "cell_type": "code",
      "source": [
        "def parse_star_count(stars_str):\n",
        "    if stars_str.endswith('k'):\n",
        "        stars_str = stars_str.strip()\n",
        "        return int(float(stars_str[:-1]) * 1000)\n",
        "    return int(stars_str)"
      ],
      "metadata": {
        "id": "Lawu1JzV4DOZ"
      },
      "execution_count": 34,
      "outputs": []
    },
    {
      "cell_type": "code",
      "source": [
        "parse_star_count(star_tags[0].text.strip())"
      ],
      "metadata": {
        "colab": {
          "base_uri": "https://localhost:8080/"
        },
        "id": "Gbwlq9cz3-tj",
        "outputId": "d353d7af-84aa-4d5c-8e81-3de7ba6c8daf"
      },
      "execution_count": 35,
      "outputs": [
        {
          "output_type": "execute_result",
          "data": {
            "text/plain": [
              "84800"
            ]
          },
          "metadata": {},
          "execution_count": 35
        }
      ]
    },
    {
      "cell_type": "code",
      "source": [
        "def get_repo_info(repo_tags, star_tags):\n",
        "    na_tags = repo_tags.find_all('a')\n",
        "    username = na_tags[0].text.strip()\n",
        "    repo_name = na_tags[1].text.strip()\n",
        "    repo_url = base_link + na_tags[1]['href']\n",
        "    stars = parse_star_count(star_tags.text.strip())\n",
        "    return username,repo_name,repo_url,stars"
      ],
      "metadata": {
        "id": "uV_qVKjV8Uja"
      },
      "execution_count": 36,
      "outputs": []
    },
    {
      "cell_type": "code",
      "source": [
        "topic_repos_dict = {\n",
        "    'username' : [],\n",
        "    'repo_name' : [],\n",
        "    'repo_url' : [],\n",
        "    'stars' : []\n",
        "}\n",
        "for i in range(0, 20):\n",
        "    repo_info = get_repo_info(repo_tags[i], star_tags[i])\n",
        "    topic_repos_dict['username'].append(repo_info[0])\n",
        "    topic_repos_dict['repo_name'].append(repo_info[1])\n",
        "    topic_repos_dict['repo_url'].append(repo_info[2])\n",
        "    topic_repos_dict['stars'].append(repo_info[3])"
      ],
      "metadata": {
        "id": "niEQtghJTB53"
      },
      "execution_count": 43,
      "outputs": []
    },
    {
      "cell_type": "code",
      "source": [
        "topic_repos_df = pd.DataFrame(topic_repos_dict)\n",
        "filename = 'repo_info.csv'\n",
        "topic_repos_df.to_csv(filename)"
      ],
      "metadata": {
        "id": "whjuMXazVHwM"
      },
      "execution_count": 41,
      "outputs": []
    }
  ]
}